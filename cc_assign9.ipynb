{
  "nbformat": 4,
  "nbformat_minor": 0,
  "metadata": {
    "colab": {
      "provenance": []
    },
    "kernelspec": {
      "name": "python3",
      "display_name": "Python 3"
    },
    "language_info": {
      "name": "python"
    }
  },
  "cells": [
    {
      "cell_type": "code",
      "source": [
        "!pip install nltk"
      ],
      "metadata": {
        "colab": {
          "base_uri": "https://localhost:8080/"
        },
        "id": "jsidTnSBIcIv",
        "outputId": "41ca5b32-a060-4491-8689-18f71f9791c8"
      },
      "execution_count": 4,
      "outputs": [
        {
          "output_type": "stream",
          "name": "stdout",
          "text": [
            "Requirement already satisfied: nltk in /usr/local/lib/python3.11/dist-packages (3.9.1)\n",
            "Requirement already satisfied: click in /usr/local/lib/python3.11/dist-packages (from nltk) (8.1.8)\n",
            "Requirement already satisfied: joblib in /usr/local/lib/python3.11/dist-packages (from nltk) (1.4.2)\n",
            "Requirement already satisfied: regex>=2021.8.3 in /usr/local/lib/python3.11/dist-packages (from nltk) (2024.11.6)\n",
            "Requirement already satisfied: tqdm in /usr/local/lib/python3.11/dist-packages (from nltk) (4.67.1)\n"
          ]
        }
      ]
    },
    {
      "cell_type": "code",
      "source": [
        "import nltk\n",
        "\n",
        "nltk.download('punkt')\n",
        "nltk.download('stopwords')\n",
        "nltk.download('wordnet')\n",
        "nltk.download('punkt_tab')"
      ],
      "metadata": {
        "colab": {
          "base_uri": "https://localhost:8080/"
        },
        "id": "gCjSxgoZIX_E",
        "outputId": "e403b321-fc84-4802-cab5-c8c039aee6a4"
      },
      "execution_count": 5,
      "outputs": [
        {
          "output_type": "stream",
          "name": "stderr",
          "text": [
            "[nltk_data] Downloading package punkt to /root/nltk_data...\n",
            "[nltk_data]   Unzipping tokenizers/punkt.zip.\n",
            "[nltk_data] Downloading package stopwords to /root/nltk_data...\n",
            "[nltk_data]   Unzipping corpora/stopwords.zip.\n",
            "[nltk_data] Downloading package wordnet to /root/nltk_data...\n",
            "[nltk_data]   Package wordnet is already up-to-date!\n",
            "[nltk_data] Downloading package punkt_tab to /root/nltk_data...\n",
            "[nltk_data]   Unzipping tokenizers/punkt_tab.zip.\n"
          ]
        },
        {
          "output_type": "execute_result",
          "data": {
            "text/plain": [
              "True"
            ]
          },
          "metadata": {},
          "execution_count": 5
        }
      ]
    },
    {
      "cell_type": "code",
      "execution_count": 6,
      "metadata": {
        "colab": {
          "base_uri": "https://localhost:8080/"
        },
        "id": "Upl7YakGLewi",
        "outputId": "0356b5c9-79cb-4359-beda-7c6c3c755418"
      },
      "outputs": [
        {
          "output_type": "stream",
          "name": "stdout",
          "text": [
            "hello world, nlp; cognitive computing computing assignment.\n",
            "hello world nlp cognitive computing computing assignment\n"
          ]
        }
      ],
      "source": [
        "import string\n",
        "text=\"hello world, NLP; Cognitive computing computing assigNMent.\"\n",
        "text_lower=text.lower()\n",
        "print(text_lower)\n",
        "\n",
        "text_clean = text_lower.translate(str.maketrans('', '', string.punctuation))\n",
        "print(text_clean)"
      ]
    },
    {
      "cell_type": "code",
      "source": [
        "import nltk\n",
        "from nltk.tokenize import word_tokenize, sent_tokenize\n",
        "nltk.download('punkt_tab')\n",
        "word_token = word_tokenize(text)\n",
        "word_token1 = word_tokenize(text_clean)\n",
        "sent_tokenize = sent_tokenize(text)\n",
        "print(word_token)\n",
        "print(word_token1)\n",
        "print(sent_tokenize)"
      ],
      "metadata": {
        "colab": {
          "base_uri": "https://localhost:8080/"
        },
        "id": "eg8szKATL8Zz",
        "outputId": "56428490-4b34-467a-b2a8-f991382eec68"
      },
      "execution_count": 7,
      "outputs": [
        {
          "output_type": "stream",
          "name": "stdout",
          "text": [
            "['hello', 'world', ',', 'NLP', ';', 'Cognitive', 'computing', 'computing', 'assigNMent', '.']\n",
            "['hello', 'world', 'nlp', 'cognitive', 'computing', 'computing', 'assignment']\n",
            "['hello world, NLP; Cognitive computing computing assigNMent.']\n"
          ]
        },
        {
          "output_type": "stream",
          "name": "stderr",
          "text": [
            "[nltk_data] Downloading package punkt_tab to /root/nltk_data...\n",
            "[nltk_data]   Package punkt_tab is already up-to-date!\n"
          ]
        }
      ]
    },
    {
      "cell_type": "code",
      "source": [
        "import nltk\n",
        "from nltk.corpus import stopwords\n",
        "nltk.download('stopwords')\n",
        "stopword = set(stopwords.words('english'))\n",
        "filtered_words = [w for w in word_token if w.lower() not in stopword]\n",
        "print(\"Filtered Words:\", filtered_words)"
      ],
      "metadata": {
        "colab": {
          "base_uri": "https://localhost:8080/"
        },
        "id": "fC2wkY7AOKaQ",
        "outputId": "4baa75cb-9cae-499c-86f6-36dda484d812"
      },
      "execution_count": 8,
      "outputs": [
        {
          "output_type": "stream",
          "name": "stdout",
          "text": [
            "Filtered Words: ['hello', 'world', ',', 'NLP', ';', 'Cognitive', 'computing', 'computing', 'assigNMent', '.']\n"
          ]
        },
        {
          "output_type": "stream",
          "name": "stderr",
          "text": [
            "[nltk_data] Downloading package stopwords to /root/nltk_data...\n",
            "[nltk_data]   Package stopwords is already up-to-date!\n"
          ]
        }
      ]
    },
    {
      "cell_type": "code",
      "source": [
        "from nltk import FreqDist\n",
        "fd = FreqDist(filtered_words)\n",
        "fd.plot(10, title=\"Words\")"
      ],
      "metadata": {
        "colab": {
          "base_uri": "https://localhost:8080/",
          "height": 555
        },
        "id": "kJfEkf8LPCmP",
        "outputId": "925514c3-561a-4a2b-fdd0-faa7d134d21c"
      },
      "execution_count": 9,
      "outputs": [
        {
          "output_type": "execute_result",
          "data": {
            "text/plain": [
              "<Axes: title={'center': 'Words'}, xlabel='Samples', ylabel='Counts'>"
            ]
          },
          "metadata": {},
          "execution_count": 9
        },
        {
          "output_type": "display_data",
          "data": {
            "text/plain": [
              "<Figure size 640x480 with 1 Axes>"
            ],
            "image/png": "[encoded data removed]"
          },
          "metadata": {}
        }
      ]
    },
    {
      "cell_type": "code",
      "source": [
        "import nltk\n",
        "from nltk.stem import PorterStemmer, WordNetLemmatizer\n",
        "nltk.download('wordnet')\n",
        "ps = PorterStemmer()\n",
        "lm = WordNetLemmatizer()\n",
        "\n",
        "for word in filtered_words:\n",
        "    print(f\"{word} -> Stemmed: {ps.stem(word)}, Lemmatized: {lm.lemmatize(word)}\")"
      ],
      "metadata": {
        "id": "ObM3EgKhPk2F",
        "colab": {
          "base_uri": "https://localhost:8080/"
        },
        "outputId": "ec7843d9-ffd8-4019-c085-d7bdc83b9daa"
      },
      "execution_count": 10,
      "outputs": [
        {
          "output_type": "stream",
          "name": "stderr",
          "text": [
            "[nltk_data] Downloading package wordnet to /root/nltk_data...\n",
            "[nltk_data]   Package wordnet is already up-to-date!\n"
          ]
        },
        {
          "output_type": "stream",
          "name": "stdout",
          "text": [
            "hello -> Stemmed: hello, Lemmatized: hello\n",
            "world -> Stemmed: world, Lemmatized: world\n",
            ", -> Stemmed: ,, Lemmatized: ,\n",
            "NLP -> Stemmed: nlp, Lemmatized: NLP\n",
            "; -> Stemmed: ;, Lemmatized: ;\n",
            "Cognitive -> Stemmed: cognit, Lemmatized: Cognitive\n",
            "computing -> Stemmed: comput, Lemmatized: computing\n",
            "computing -> Stemmed: comput, Lemmatized: computing\n",
            "assigNMent -> Stemmed: assign, Lemmatized: assigNMent\n",
            ". -> Stemmed: ., Lemmatized: .\n"
          ]
        }
      ]
    },
    {
      "cell_type": "code",
      "source": [
        "import re\n",
        "\n",
        "def custom_tokenizer(text):\n",
        "    pattern = r\"\\b\\w+(?:-\\w+)*\\b|\\d+\\.\\d+|\\w+'\\w+\"\n",
        "    return re.findall(pattern, text)\n",
        "\n",
        "print(custom_tokenizer(\"State-of-the-art AI isn't easy to build. 3.14 is Pi.\"))"
      ],
      "metadata": {
        "id": "KXYh6iTqPkjd",
        "colab": {
          "base_uri": "https://localhost:8080/"
        },
        "outputId": "a11e6704-71bc-4c0e-d9a5-f1cd9f666ad4"
      },
      "execution_count": 11,
      "outputs": [
        {
          "output_type": "stream",
          "name": "stdout",
          "text": [
            "['State-of-the-art', 'AI', 'isn', 't', 'easy', 'to', 'build', '3', '14', 'is', 'Pi']\n"
          ]
        }
      ]
    },
    {
      "cell_type": "code",
      "source": [
        "import re\n",
        "\n",
        "text = \"contact us at support@example.com or sales@domain.co.in. website: https://www.example.com  Call us at 123-456-7890 or +91 9876543210.\"\n",
        "\n",
        "text = re.sub(r'\\b[A-Za-z0-9._%+-]+@[A-Za-z0-9.-]+\\.[A-Za-z]{2,}\\b', '<EMAIL>', text)\n",
        "\n",
        "text = re.sub(r'https?://[^\\s]+', '<URL>', text)\n",
        "\n",
        "text = re.sub(r'\\b(?:\\+91[\\s-]?)?[0-9]{3}[-\\s]?[0-9]{3}[-\\s]?[0-9]{4}\\b', '<PHONE>', text)\n",
        "\n",
        "print(text)\n"
      ],
      "metadata": {
        "colab": {
          "base_uri": "https://localhost:8080/"
        },
        "id": "aGb0lr5SMKK1",
        "outputId": "1bbb45ed-1250-4c8b-aa7f-9ec9da709897"
      },
      "execution_count": 12,
      "outputs": [
        {
          "output_type": "stream",
          "name": "stdout",
          "text": [
            "contact us at <EMAIL> or <EMAIL>. website: <URL>  Call us at <PHONE> or +91 <PHONE>.\n"
          ]
        }
      ]
    }
  ]
}