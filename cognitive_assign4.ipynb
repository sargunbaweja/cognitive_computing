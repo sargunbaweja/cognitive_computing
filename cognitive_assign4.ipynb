{
 "cells": [
  {
   "cell_type": "code",
   "execution_count": null,
   "metadata": {},
   "outputs": [],
   "source": [
    "import numpy as np\n"
   ]
  },
  {
   "cell_type": "code",
   "execution_count": 3,
   "metadata": {},
   "outputs": [],
   "source": [
    "arr=np.array([5,10,15,20,25])"
   ]
  },
  {
   "cell_type": "code",
   "execution_count": 6,
   "metadata": {},
   "outputs": [
    {
     "name": "stdout",
     "output_type": "stream",
     "text": [
      "[ 5 10 15 20 25]\n"
     ]
    },
    {
     "data": {
      "text/plain": [
       "dtype('int64')"
      ]
     },
     "execution_count": 6,
     "metadata": {},
     "output_type": "execute_result"
    }
   ],
   "source": [
    "print(arr)\n",
    "arr.dtype"
   ]
  },
  {
   "cell_type": "code",
   "execution_count": 10,
   "metadata": {},
   "outputs": [
    {
     "name": "stdout",
     "output_type": "stream",
     "text": [
      "[15 30 45 60 75]\n",
      "[ 7 12 17 22 27]\n",
      "[ 2.5  5.   7.5 10.  12.5]\n"
     ]
    }
   ],
   "source": [
    "print(arr*3)\n",
    "print(arr+2)\n",
    "print(arr/2)"
   ]
  },
  {
   "cell_type": "code",
   "execution_count": 16,
   "metadata": {},
   "outputs": [
    {
     "name": "stdout",
     "output_type": "stream",
     "text": [
      "[4 5 6 3 2 1]\n",
      "[4 5 6 3 2 1]\n"
     ]
    }
   ],
   "source": [
    "brr=np.array([1,2,3,6,5,4])\n",
    "crr=brr[::-1]\n",
    "print(crr)\n",
    "\n",
    "drr=np.flip(brr)\n",
    "print(drr)"
   ]
  },
  {
   "cell_type": "code",
   "execution_count": 22,
   "metadata": {},
   "outputs": [
    {
     "name": "stdout",
     "output_type": "stream",
     "text": [
      "20\n",
      "70\n"
     ]
    }
   ],
   "source": [
    "err=np.array([[10, 20, 30], [40, 50, 60], [70, 80, 90]])\n",
    "print(err[0,1])\n",
    "print(err[2,0])"
   ]
  },
  {
   "cell_type": "code",
   "execution_count": 24,
   "metadata": {},
   "outputs": [
    {
     "name": "stdout",
     "output_type": "stream",
     "text": [
      "[ 10.    13.75  17.5   21.25  25.    28.75  32.5   36.25  40.    43.75\n",
      "  47.5   51.25  55.    58.75  62.5   66.25  70.    73.75  77.5   81.25\n",
      "  85.    88.75  92.5   96.25 100.  ]\n",
      "dim: 1\n",
      "shape: (25,)\n",
      "size: 25\n",
      "d_type : float64\n",
      "bytes: 200\n",
      "transpose : [[ 10.  ]\n",
      " [ 13.75]\n",
      " [ 17.5 ]\n",
      " [ 21.25]\n",
      " [ 25.  ]\n",
      " [ 28.75]\n",
      " [ 32.5 ]\n",
      " [ 36.25]\n",
      " [ 40.  ]\n",
      " [ 43.75]\n",
      " [ 47.5 ]\n",
      " [ 51.25]\n",
      " [ 55.  ]\n",
      " [ 58.75]\n",
      " [ 62.5 ]\n",
      " [ 66.25]\n",
      " [ 70.  ]\n",
      " [ 73.75]\n",
      " [ 77.5 ]\n",
      " [ 81.25]\n",
      " [ 85.  ]\n",
      " [ 88.75]\n",
      " [ 92.5 ]\n",
      " [ 96.25]\n",
      " [100.  ]]\n"
     ]
    }
   ],
   "source": [
    "import numpy as np\n",
    "sargun=np.linspace(10,100,25)\n",
    "print(sargun)\n",
    "print(\"dim:\",sargun.ndim)\n",
    "print(\"shape:\",sargun.shape)\n",
    "print(\"size:\",sargun.size)\n",
    "print(\"d_type :\",sargun.dtype)\n",
    "print(\"bytes:\",sargun.nbytes)\n",
    "transpose_arr=sargun.reshape(25,1)\n",
    "print(\"transpose :\",transpose_arr)"
   ]
  },
  {
   "cell_type": "code",
   "execution_count": 25,
   "metadata": {},
   "outputs": [
    {
     "name": "stdout",
     "output_type": "stream",
     "text": [
      "43.333333333333336\n",
      "37.5\n",
      "90\n",
      "10\n",
      "[10 15 20 30 35 40 50 60 70 80 90]\n",
      "reshape: [[10 20 30]\n",
      " [40 50 60]\n",
      " [70 80 90]\n",
      " [15 20 35]]\n",
      "resize_array: [[10 20 30 40 50 60]\n",
      " [70 80 90 15 20 35]]\n"
     ]
    }
   ],
   "source": [
    "\n",
    "import numpy as np\n",
    "ucs420_sargun= np.array([[10, 20, 30, 40], [50, 60, 70, 80], [90, 15, 20, 35]])\n",
    "print( np.mean(ucs420_sargun))\n",
    "print(np.median(ucs420_sargun))\n",
    "print(np.max(ucs420_sargun))\n",
    "print(np.min(ucs420_sargun))\n",
    "print(np.unique(ucs420_sargun))\n",
    "reshape_ucs420_sargun=ucs420_sargun.reshape(4,3)\n",
    "print(\"reshape:\",reshape_ucs420_sargun)\n",
    "resize_ucs420_sargun=np.resize(ucs420_sargun,(2,6))\n",
    "print(\"resize_array:\",resize_ucs420_sargun)"
   ]
  }
 ],
 "metadata": {
  "kernelspec": {
   "display_name": "Python 3",
   "language": "python",
   "name": "python3"
  },
  "language_info": {
   "codemirror_mode": {
    "name": "ipython",
    "version": 3
   },
   "file_extension": ".py",
   "mimetype": "text/x-python",
   "name": "python",
   "nbconvert_exporter": "python",
   "pygments_lexer": "ipython3",
   "version": "3.13.0"
  }
 },
 "nbformat": 4,
 "nbformat_minor": 2
}
