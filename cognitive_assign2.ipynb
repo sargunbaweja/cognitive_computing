{
 "cells": [
  {
   "cell_type": "code",
   "execution_count": 1,
   "metadata": {},
   "outputs": [
    {
     "name": "stdout",
     "output_type": "stream",
     "text": [
      "(i):  [10, 20, 30, 40, 50, 60, 70, 80, 200, 300]\n",
      "(ii):  [20, 40, 50, 60, 70, 80, 200, 300]\n",
      "(iii):  [20, 40, 50, 60, 70, 80, 200, 300]\n",
      "(iv):  [300, 200, 80, 70, 60, 50, 40, 20]\n"
     ]
    }
   ],
   "source": [
    "L = [10,20,30,40,50,60,70,80]\n",
    "\n",
    "\n",
    "L.append(200)\n",
    "L.append(300)\n",
    "print(\"(i): \",L)\n",
    "\n",
    "L.remove(10)\n",
    "L.remove(30)\n",
    "print(\"(ii): \" ,L )\n",
    "\n",
    "L.sort()\n",
    "print(\"(iii): \" ,L )\n",
    "\n",
    "L.sort(reverse=True)\n",
    "print(\"(iv): \" ,L )\n",
    "\n",
    "\n"
   ]
  },
  {
   "cell_type": "code",
   "execution_count": 4,
   "metadata": {},
   "outputs": [
    {
     "name": "stdout",
     "output_type": "stream",
     "text": [
      "highest score: 92\n",
      "index: 5\n",
      "lowest score: 45\n",
      "count: 2\n",
      "reversed tuple: (45, 58, 92, 89, 45.4, 76, 89.5, 45)\n",
      "list: [45, 58, 92, 89, 45.4, 76, 89.5, 45]\n",
      "76 is present\n"
     ]
    }
   ],
   "source": [
    "scores = (45,89.5,76,45.4,89,92,58,45)\n",
    "\n",
    "\n",
    "highest_score = max(scores)\n",
    "highest_score_ind = scores.index(highest_score)\n",
    "print(\"highest score:\", highest_score)\n",
    "print(\"index:\", highest_score_ind)\n",
    "\n",
    "\n",
    "lowest_score = min(scores)\n",
    "lowest_count = scores.count(lowest_score)\n",
    "print(\"lowest score:\", lowest_score)\n",
    "print(\"count:\", lowest_count)\n",
    "\n",
    "\n",
    "\n",
    "reversed_tuple = scores[::-1]  \n",
    "reversed_list = list(reversed_tuple)  \n",
    "\n",
    "print(\"reversed tuple:\", reversed_tuple)\n",
    "print(\"list:\", reversed_list)\n",
    "\n",
    "\n",
    "specific_score = 76\n",
    "if specific_score in scores:\n",
    "    print(f\"{specific_score} is present\")\n",
    "else:\n",
    "    print(f\"{specific_score} is not present\")\n"
   ]
  },
  {
   "cell_type": "code",
   "execution_count": 6,
   "metadata": {},
   "outputs": [
    {
     "name": "stdout",
     "output_type": "stream",
     "text": [
      "odd numbers: [367, 629, 869, 421, 259, 209, 147, 349, 649, 181, 681, 807, 179, 667, 635, 421, 745, 105, 195, 275, 335, 413, 765, 731, 561, 549, 485, 227, 271, 393, 157, 555, 735, 423, 109, 747, 443, 539, 157, 243, 553, 637, 327, 239, 297, 833, 481, 151, 317, 179, 815, 125, 657, 187]\n",
      "even numbers: [422, 218, 286, 548, 718, 148, 638, 628, 764, 264, 182, 740, 448, 510, 818, 768, 824, 104, 254, 644, 714, 382, 664, 706, 330, 178, 566, 754, 232, 744, 262, 124, 302, 872, 388, 812, 164, 466, 458, 152, 466, 680, 600, 526, 476, 782]\n",
      "prime numbers: [367, 421, 349, 181, 179, 421, 227, 271, 157, 109, 443, 157, 239, 151, 317, 179]\n"
     ]
    }
   ],
   "source": [
    "import random\n",
    "\n",
    "random_numbers = [random.randint(100, 900) for _ in range(100)]\n",
    "odd_numbers = [num for num in random_numbers if num%2==1]\n",
    "even_numbers = [num for num in random_numbers if num%2==0]\n",
    "\n",
    "\n",
    "def is_prime(n):\n",
    "    if n <= 1:\n",
    "        return False\n",
    "    for i in range(2, int(n)):\n",
    "        if n % i == 0:\n",
    "            return False\n",
    "    return True\n",
    "\n",
    "prime= [num for num in random_numbers if is_prime(num)]\n",
    "\n",
    "print(\"odd numbers:\", odd_numbers)\n",
    "print(\"even numbers:\", even_numbers)\n",
    "print(\"prime numbers:\", prime)\n"
   ]
  },
  {
   "cell_type": "code",
   "execution_count": 11,
   "metadata": {},
   "outputs": [
    {
     "name": "stdout",
     "output_type": "stream",
     "text": [
      "union:  {34, 45, 78, 23, 56, 90}\n",
      "intersection:  {90, 78}\n",
      "symmetric diff:  {34, 45, 23, 56}\n",
      "Is A a subset of B? False\n",
      "Is B a superset of A? False\n",
      "100 is not present in A.\n",
      "updated A: {56, 34, 90, 78}\n"
     ]
    }
   ],
   "source": [
    "A = {34, 56, 78, 90}\n",
    "B = {78, 45, 90, 23}\n",
    "\n",
    "\n",
    "union_scores = A|B  \n",
    "print(\"union: \", union_scores)\n",
    "\n",
    "\n",
    "intersection_scores = A&B\n",
    "print(\"intersection: \", intersection_scores)\n",
    "\n",
    "\n",
    "symmetric_difference = A^B\n",
    "print(\"symmetric diff: \", symmetric_difference)\n",
    "\n",
    "\n",
    "is_A_subset_B = A.issubset(B)\n",
    "is_B_superset_A = B.issuperset(A)\n",
    "print(\"Is A a subset of B?\", is_A_subset_B)\n",
    "print(\"Is B a superset of A?\", is_B_superset_A)\n",
    "\n",
    "\n",
    "specific_score = int(input(\"enter a score to remove from set A: \"))\n",
    "if specific_score in A:\n",
    "    A.discard(specific_score)  \n",
    "    print(f\"{specific_score} removed from A\")\n",
    "else:\n",
    "    print(f\"{specific_score} is not present in A.\")\n",
    "print(\"updated A:\", A)\n",
    "\n"
   ]
  },
  {
   "cell_type": "code",
   "execution_count": 12,
   "metadata": {},
   "outputs": [
    {
     "name": "stdout",
     "output_type": "stream",
     "text": [
      "new dict:  {'population': 8419600, 'area': 468.9, 'location': 'new york'}\n"
     ]
    }
   ],
   "source": [
    "data = {\n",
    "    \"city\": \"new york\",\n",
    "    \"population\": 8419600,\n",
    "    \"area\": 468.9,\n",
    "}\n",
    "\n",
    "\n",
    "data[\"location\"] = data.pop(\"city\")\n",
    "print(\"new dict: \", data)\n"
   ]
  }
 ],
 "metadata": {
  "kernelspec": {
   "display_name": "Python 3",
   "language": "python",
   "name": "python3"
  },
  "language_info": {
   "codemirror_mode": {
    "name": "ipython",
    "version": 3
   },
   "file_extension": ".py",
   "mimetype": "text/x-python",
   "name": "python",
   "nbconvert_exporter": "python",
   "pygments_lexer": "ipython3",
   "version": "3.10.12"
  }
 },
 "nbformat": 4,
 "nbformat_minor": 2
}
